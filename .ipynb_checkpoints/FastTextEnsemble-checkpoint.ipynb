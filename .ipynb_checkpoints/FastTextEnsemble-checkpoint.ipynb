{
 "cells": [
  {
   "cell_type": "markdown",
   "metadata": {},
   "source": [
    "# Text classification via Ensemble of FastText and scikit-learn\n",
    "\n",
    "Text classification is becoming a common solution to many problems in industry today including chatbots, sentiment analysis, document tagging, recommendations, etc. This article will focus on utilizing [scikit-learn](http://scikit-learn.org), a mature machine library in Python, and a relatively new library from Facebook AI Reasearch called [fastText](https://fasttext.cc/).\n",
    "\n",
    "The data we will be using today will be publicly available [reddit](http://reddit.com/) data available [here in a Google BigQuery repository](https://bigquery.cloud.google.com/dataset/fh-bigquery:reddit_posts?pli=1). The data used here is provided in this page's [GitHub repository](https://github.com/victorkwak/FastTextEnsemble) so no need to separately download the data to follow this tutorial and using Google Cloud to download data is out of the scope of this article."
   ]
  },
  {
   "cell_type": "markdown",
   "metadata": {},
   "source": [
    "## Setup\n",
    "\n",
    "I recommend downloading [Anaconda](https://www.anaconda.com/download/) for the base Python libraries needed for this tutorial. You will also need to download fastText available from their [GitHub repository](https://github.com/facebookresearch/fastText)."
   ]
  },
  {
   "cell_type": "markdown",
   "metadata": {},
   "source": [
    "## Reading in the data\n",
    "\n",
    "We will be using [pandas](https://pandas.pydata.org/) in order to read in and explore the data."
   ]
  },
  {
   "cell_type": "code",
   "execution_count": 9,
   "metadata": {},
   "outputs": [
    {
     "name": "stdout",
     "output_type": "stream",
     "text": [
      "Number of unique subreddits in the dataset: 136\n",
      "Number of title posts in dataset: 624281\n"
     ]
    },
    {
     "data": {
      "text/html": [
       "<div>\n",
       "<style scoped>\n",
       "    .dataframe tbody tr th:only-of-type {\n",
       "        vertical-align: middle;\n",
       "    }\n",
       "\n",
       "    .dataframe tbody tr th {\n",
       "        vertical-align: top;\n",
       "    }\n",
       "\n",
       "    .dataframe thead th {\n",
       "        text-align: right;\n",
       "    }\n",
       "</style>\n",
       "<table border=\"1\" class=\"dataframe\">\n",
       "  <thead>\n",
       "    <tr style=\"text-align: right;\">\n",
       "      <th></th>\n",
       "      <th>title</th>\n",
       "      <th>score</th>\n",
       "      <th>subreddit</th>\n",
       "    </tr>\n",
       "  </thead>\n",
       "  <tbody>\n",
       "    <tr>\n",
       "      <th>179519</th>\n",
       "      <td>After turning my phone while playing Solitaire...</td>\n",
       "      <td>85</td>\n",
       "      <td>softwaregore</td>\n",
       "    </tr>\n",
       "    <tr>\n",
       "      <th>142100</th>\n",
       "      <td>Useful Linux Commands To Harden Your System</td>\n",
       "      <td>99</td>\n",
       "      <td>commandline</td>\n",
       "    </tr>\n",
       "    <tr>\n",
       "      <th>319650</th>\n",
       "      <td>The RedMonk Programming Language Rankings: Jun...</td>\n",
       "      <td>29</td>\n",
       "      <td>golang</td>\n",
       "    </tr>\n",
       "    <tr>\n",
       "      <th>327975</th>\n",
       "      <td>Sure thing, Windows</td>\n",
       "      <td>11</td>\n",
       "      <td>softwaregore</td>\n",
       "    </tr>\n",
       "    <tr>\n",
       "      <th>619161</th>\n",
       "      <td>Identity crises over being an AI Researcher.</td>\n",
       "      <td>106</td>\n",
       "      <td>softwaregore</td>\n",
       "    </tr>\n",
       "    <tr>\n",
       "      <th>380642</th>\n",
       "      <td>Forget Windows Use Linux is a USB-Bootable Dis...</td>\n",
       "      <td>302</td>\n",
       "      <td>Android</td>\n",
       "    </tr>\n",
       "    <tr>\n",
       "      <th>239470</th>\n",
       "      <td>गुम या चोरी हो चुके फ़ोन का लोकेशन जाने | How t...</td>\n",
       "      <td>1</td>\n",
       "      <td>Android</td>\n",
       "    </tr>\n",
       "    <tr>\n",
       "      <th>402439</th>\n",
       "      <td>Getting celery to run on windows</td>\n",
       "      <td>2</td>\n",
       "      <td>learnpython</td>\n",
       "    </tr>\n",
       "    <tr>\n",
       "      <th>317152</th>\n",
       "      <td>The Concept Video of LG V30 Is Just Too Alluri...</td>\n",
       "      <td>1</td>\n",
       "      <td>Android</td>\n",
       "    </tr>\n",
       "    <tr>\n",
       "      <th>146894</th>\n",
       "      <td>Alcatel A30 ($60) and Moto G5 Plus ($185) are ...</td>\n",
       "      <td>96</td>\n",
       "      <td>Android</td>\n",
       "    </tr>\n",
       "  </tbody>\n",
       "</table>\n",
       "</div>"
      ],
      "text/plain": [
       "                                                    title  score     subreddit\n",
       "179519  After turning my phone while playing Solitaire...     85  softwaregore\n",
       "142100        Useful Linux Commands To Harden Your System     99   commandline\n",
       "319650  The RedMonk Programming Language Rankings: Jun...     29        golang\n",
       "327975                                Sure thing, Windows     11  softwaregore\n",
       "619161       Identity crises over being an AI Researcher.    106  softwaregore\n",
       "380642  Forget Windows Use Linux is a USB-Bootable Dis...    302       Android\n",
       "239470  गुम या चोरी हो चुके फ़ोन का लोकेशन जाने | How t...      1       Android\n",
       "402439                   Getting celery to run on windows      2   learnpython\n",
       "317152  The Concept Video of LG V30 Is Just Too Alluri...      1       Android\n",
       "146894  Alcatel A30 ($60) and Moto G5 Plus ($185) are ...     96       Android"
      ]
     },
     "execution_count": 9,
     "metadata": {},
     "output_type": "execute_result"
    }
   ],
   "source": [
    "import pandas as pd\n",
    "\n",
    "data = pd.read_csv('data/cs_subs.csv').dropna() #Unzip this data from the zip file included.\n",
    "\n",
    "print('Number of unique subreddits in the dataset:', len(data['subreddit'].unique()))\n",
    "print('Number of title posts in dataset:', data.shape[0])\n",
    "data.sample(10)"
   ]
  },
  {
   "cell_type": "markdown",
   "metadata": {},
   "source": [
    "### We are filtering subreddits that have less than 150 posts. "
   ]
  },
  {
   "cell_type": "code",
   "execution_count": 10,
   "metadata": {},
   "outputs": [],
   "source": [
    "counts = data['subreddit'].value_counts()\n",
    "counts = counts[counts > 150]\n",
    "top_values = list(counts.index)\n",
    "data = data[data['subreddit'].isin(top_values)]"
   ]
  },
  {
   "cell_type": "code",
   "execution_count": 12,
   "metadata": {},
   "outputs": [
    {
     "name": "stdout",
     "output_type": "stream",
     "text": [
      "Number of unique subreddits after filtering: 117\n",
      "Number of title posts after filtering: 622909\n"
     ]
    }
   ],
   "source": [
    "print('Number of unique subreddits after filtering:', len(data['subreddit'].unique()))\n",
    "print('Number of title posts after filtering:', data.shape[0])"
   ]
  },
  {
   "cell_type": "markdown",
   "metadata": {},
   "source": [
    "We have a very skewed dataset. Let's see the average reddit score (upvotes + downvotes) for each subreddit to filter out. I want to do mean and not median since median would just arbitrarily cut the data in half. Hopefully filtering by mean will take relatively larger chunks out of the more popular subreddits than the less popular ones."
   ]
  },
  {
   "cell_type": "code",
   "execution_count": 14,
   "metadata": {},
   "outputs": [],
   "source": [
    "means = {}\n",
    "for subreddit in data['subreddit'].unique():\n",
    "    means[subreddit] = data[data['subreddit'] == subreddit]['score'].mean()\n",
    "    \n",
    "filtered = []\n",
    "\n",
    "for subreddit in data['subreddit'].unique():\n",
    "    filtered.append(data.loc[(data['subreddit'] == subreddit) & (data['score'] >= means[subreddit])])"
   ]
  },
  {
   "cell_type": "code",
   "execution_count": null,
   "metadata": {},
   "outputs": [],
   "source": []
  }
 ],
 "metadata": {
  "kernelspec": {
   "display_name": "Python 3",
   "language": "python",
   "name": "python3"
  },
  "language_info": {
   "codemirror_mode": {
    "name": "ipython",
    "version": 3
   },
   "file_extension": ".py",
   "mimetype": "text/x-python",
   "name": "python",
   "nbconvert_exporter": "python",
   "pygments_lexer": "ipython3",
   "version": "3.5.5"
  }
 },
 "nbformat": 4,
 "nbformat_minor": 2
}
